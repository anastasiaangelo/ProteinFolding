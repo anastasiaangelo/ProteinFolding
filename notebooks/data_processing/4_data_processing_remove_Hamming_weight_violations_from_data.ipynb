{
 "cells": [
  {
   "cell_type": "code",
   "execution_count": 1,
   "metadata": {},
   "outputs": [
    {
     "data": {
      "text/plain": [
       "\"As of yet, this script is not doing what it's supposed to do.\""
      ]
     },
     "execution_count": 1,
     "metadata": {},
     "output_type": "execute_result"
    }
   ],
   "source": [
    "\"\"\"As of yet, this script is not doing what it's supposed to do.\"\"\""
   ]
  },
  {
   "cell_type": "code",
   "execution_count": null,
   "metadata": {},
   "outputs": [],
   "source": [
    "%load_ext autoreload\n",
    "%autoreload 2\n"
   ]
  },
  {
   "cell_type": "code",
   "execution_count": 3,
   "metadata": {},
   "outputs": [
    {
     "name": "stdout",
     "output_type": "stream",
     "text": [
      "Root directory: /Users/dilhan.manawadu/Projects/proteinfolding is added to sys.path\n"
     ]
    }
   ],
   "source": [
    "import os\n",
    "import sys\n",
    "\n",
    "# Get the current working directory\n",
    "cwd = os.getcwd()\n",
    "\n",
    "# Get the parent directory\n",
    "parent_dir = os.path.dirname(cwd)\n",
    "\n",
    "# Get the grandparent directory (two levels above)\n",
    "root_dir = os.path.dirname(parent_dir)\n",
    "\n",
    "# Add the root directory to sys.path\n",
    "if root_dir not in sys.path:\n",
    "    sys.path.append(root_dir)\n",
    "\n",
    "print(f\"Root directory: {root_dir} is added to sys.path\")\n"
   ]
  },
  {
   "cell_type": "code",
   "execution_count": 4,
   "metadata": {},
   "outputs": [],
   "source": [
    "## test imports\n",
    "\n",
    "from proteinfolding import * ## should run without errors\n",
    "\n",
    "##TODO: proper testing ##"
   ]
  },
  {
   "cell_type": "code",
   "execution_count": 5,
   "metadata": {},
   "outputs": [
    {
     "name": "stdout",
     "output_type": "stream",
     "text": [
      "Intel MKL WARNING: Support of Intel(R) Streaming SIMD Extensions 4.2 (Intel(R) SSE4.2) enabled only processors has been deprecated. Intel oneAPI Math Kernel Library 2025.0 will require Intel(R) Advanced Vector Extensions (Intel(R) AVX) instructions.\n",
      "Intel MKL WARNING: Support of Intel(R) Streaming SIMD Extensions 4.2 (Intel(R) SSE4.2) enabled only processors has been deprecated. Intel oneAPI Math Kernel Library 2025.0 will require Intel(R) Advanced Vector Extensions (Intel(R) AVX) instructions.\n",
      "/Users/dilhan.manawadu/Projects/proteinfolding/notebooks/data_processing\n"
     ]
    }
   ],
   "source": [
    "from proteinfolding.data_processing import *\n",
    "from proteinfolding.paths import SCP_PRODUCTION_RUNS_DIR, XY_QAOA_DATA_DIR\n",
    "\n",
    "SIMULATION_ID = \"A15067349\"\n",
    "RAW_DATA_DIR = os.path.join(SCP_PRODUCTION_RUNS_DIR, SIMULATION_ID)\n",
    "PROCESSED_DATA_DIR = os.path.join(XY_QAOA_DATA_DIR, SIMULATION_ID)"
   ]
  },
  {
   "cell_type": "code",
   "execution_count": 6,
   "metadata": {},
   "outputs": [],
   "source": [
    "from proteinfolding.paths import HAMMING_WEIGHT_PRESERVING_DATA_FILE\n",
    "\n",
    "import pandas as pd\n",
    "\n",
    "\n",
    "\n",
    "df = pd.read_csv(os.path.join(PROCESSED_DATA_DIR, f\"{SIMULATION_ID}.csv.gz\"), compression='gzip')\n"
   ]
  },
  {
   "cell_type": "code",
   "execution_count": 13,
   "metadata": {},
   "outputs": [],
   "source": [
    "from proteinfolding.data_processing import remove_hamming_viloations_from_intermetiate_data\n",
    "\n",
    "df_hamming_weight_preserving = remove_hamming_viloations_from_intermetiate_data(df)"
   ]
  },
  {
   "cell_type": "code",
   "execution_count": 14,
   "metadata": {},
   "outputs": [],
   "source": [
    "# save the data\n",
    "\n",
    "from proteinfolding.paths import HAMMING_WEIGHT_PRESERVING_DATA_FILE\n",
    "\n",
    "if not os.path.exists(PROCESSED_DATA_DIR):\n",
    "    os.makedirs(PROCESSED_DATA_DIR)\n",
    "\n",
    "df_hamming_weight_preserving.to_csv(os.path.join(PROCESSED_DATA_DIR, HAMMING_WEIGHT_PRESERVING_DATA_FILE), index=False)"
   ]
  },
  {
   "cell_type": "code",
   "execution_count": 15,
   "metadata": {},
   "outputs": [
    {
     "data": {
      "text/plain": [
       "'/Users/dilhan.manawadu/Projects/proteinfolding/data/processed/xy_qaoa/A15067349/hamming_weight_preserving_data.csv'"
      ]
     },
     "execution_count": 15,
     "metadata": {},
     "output_type": "execute_result"
    }
   ],
   "source": [
    "os.path.join(PROCESSED_DATA_DIR, HAMMING_WEIGHT_PRESERVING_DATA_FILE)"
   ]
  },
  {
   "cell_type": "code",
   "execution_count": null,
   "metadata": {},
   "outputs": [],
   "source": []
  }
 ],
 "metadata": {
  "kernelspec": {
   "display_name": "protein_q1",
   "language": "python",
   "name": "python3"
  },
  "language_info": {
   "codemirror_mode": {
    "name": "ipython",
    "version": 3
   },
   "file_extension": ".py",
   "mimetype": "text/x-python",
   "name": "python",
   "nbconvert_exporter": "python",
   "pygments_lexer": "ipython3",
   "version": "3.11.8"
  }
 },
 "nbformat": 4,
 "nbformat_minor": 2
}
