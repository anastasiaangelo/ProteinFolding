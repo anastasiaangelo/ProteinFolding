{
 "cells": [
  {
   "cell_type": "code",
   "execution_count": null,
   "metadata": {},
   "outputs": [],
   "source": [
    "\"\"\"Template for jupyter notebooks created within this directory. Adds the parent directory to path and sets autoreload.\"\"\""
   ]
  },
  {
   "cell_type": "code",
   "execution_count": 1,
   "metadata": {},
   "outputs": [],
   "source": [
    "%load_ext autoreload\n",
    "%autoreload 2\n"
   ]
  },
  {
   "cell_type": "code",
   "execution_count": 2,
   "metadata": {},
   "outputs": [
    {
     "name": "stdout",
     "output_type": "stream",
     "text": [
      "Root directory: /Users/aag/Documents/proteinfolding is added to sys.path\n"
     ]
    }
   ],
   "source": [
    "import os\n",
    "import sys\n",
    "\n",
    "# Get the current working directory\n",
    "cwd = os.getcwd()\n",
    "\n",
    "# Get the parent directory\n",
    "parent_dir = os.path.dirname(cwd)\n",
    "\n",
    "# Get the grandparent directory (two levels above)\n",
    "root_dir = os.path.dirname(parent_dir)\n",
    "\n",
    "# Add the root directory to sys.path\n",
    "if root_dir not in sys.path:\n",
    "    sys.path.append(root_dir)\n",
    "\n",
    "print(f\"Root directory: {root_dir} is added to sys.path\")\n"
   ]
  },
  {
   "cell_type": "code",
   "execution_count": 3,
   "metadata": {},
   "outputs": [],
   "source": [
    "## test imports\n",
    "\n",
    "from proteinfolding import * ## should run without errors\n",
    "\n",
    "##TODO: proper testing ##"
   ]
  },
  {
   "cell_type": "code",
   "execution_count": 4,
   "metadata": {},
   "outputs": [
    {
     "name": "stdout",
     "output_type": "stream",
     "text": [
      "/Users/aag/Documents/proteinfolding/notebooks/data_processing\n",
      "┌──────────────────────────────────────────────────────────────────────────────┐\n",
      "│                                 PyRosetta-4                                  │\n",
      "│              Created in JHU by Sergey Lyskov and PyRosetta Team              │\n",
      "│              (C) Copyright Rosetta Commons Member Institutions               │\n",
      "│                                                                              │\n",
      "│ NOTE: USE OF PyRosetta FOR COMMERCIAL PURPOSES REQUIRE PURCHASE OF A LICENSE │\n",
      "│         See LICENSE.PyRosetta.md or email license@uw.edu for details         │\n",
      "└──────────────────────────────────────────────────────────────────────────────┘\n",
      "PyRosetta-4 2025 [Rosetta PyRosetta4.Release.python310.m1 2025.06+release.029c6a159b896477003a14f78f472d4cd2cead46 2025-02-04T15:14:13] retrieved from: http://www.pyrosetta.org\n",
      "core.init: Checking for fconfig files in pwd and ./rosetta/flags\n",
      "core.init: Rosetta version: PyRosetta4.Release.python310.m1 r394 2025.06+release.029c6a159b 029c6a159b896477003a14f78f472d4cd2cead46 http://www.pyrosetta.org 2025-02-04T15:14:13\n",
      "core.init: Rosetta extras: []\n",
      "core.init: command: PyRosetta -ex1 -ex2aro -database /Users/aag/Documents/proteinfolding/pf_venv/lib/python3.10/site-packages/pyrosetta/database\n",
      "basic.random.init_random_generator: 'RNG device' seed mode, using '/dev/urandom', seed=2047759100 seed_offset=0 real_seed=2047759100\n",
      "basic.random.init_random_generator: RandomGenerator:init: Normal mode, seed=2047759100 RG_type=mt19937\n"
     ]
    }
   ],
   "source": [
    "from proteinfolding.data_processing import generate_exact_energies_data"
   ]
  },
  {
   "cell_type": "code",
   "execution_count": 5,
   "metadata": {},
   "outputs": [
    {
     "name": "stdout",
     "output_type": "stream",
     "text": [
      "Reading from: /Users/aag/Documents/proteinfolding/notebooks/local_testing/complexity_SA_break_gs.csv\n",
      "(121, 5)\n",
      "❌ Mismatches found:\n",
      "Empty DataFrame\n",
      "Columns: [num_res, num_rot, ground_state, gs_energy]\n",
      "Index: []\n"
     ]
    }
   ],
   "source": [
    "import numpy as np\n",
    "import pandas as pd\n",
    "\n",
    "df_results = pd.read_csv(os.path.join(root_dir, \"notebooks/local_testing/complexity_SA_break_gs.csv\"))\n",
    "df_exact = pd.read_csv(\"/Users/aag/Documents/proteinfolding/data/processed/exact/exact_ground_state_and_energy.csv\")\n",
    "\n",
    "print(\"Reading from:\", os.path.join(root_dir, \"notebooks/local_testing/complexity_SA_break_gs.csv\"))\n",
    "print(df_results.shape)\n",
    "# Merge on num_res and num_rot to get true ground state energy\n",
    "df_merged = pd.merge(df_results, df_exact[['num_res', 'num_rot', 'gs_energy']], on=['num_res', 'num_rot'], how='left')\n",
    "\n",
    "# Set a tolerance\n",
    "tol = 1e-6\n",
    "\n",
    "# Identify mismatched rows\n",
    "mask_mismatch = ~np.isclose(df_merged[\"ground_state\"], df_merged[\"gs_energy\"], atol=tol)\n",
    "df_mismatches = df_merged[mask_mismatch]\n",
    "\n",
    "# Report mismatches\n",
    "print(\"❌ Mismatches found:\")\n",
    "print(df_mismatches[[\"num_res\", \"num_rot\", \"ground_state\", \"gs_energy\"]])\n",
    "\n",
    "# Drop mismatches\n",
    "df_cleaned = df_results[~mask_mismatch]"
   ]
  },
  {
   "cell_type": "code",
   "execution_count": 6,
   "metadata": {},
   "outputs": [],
   "source": [
    "df_cleaned.to_csv(\"complexity_SA_break_gs.csv\", index=False)"
   ]
  },
  {
   "cell_type": "code",
   "execution_count": null,
   "metadata": {},
   "outputs": [],
   "source": [
    "num_res_array = [6]\n",
    "num_rot_array = [4]\n",
    "import time\n",
    "\n",
    "start_time = time.time()\n",
    "df = generate_exact_energies_data(num_res_array, num_rot_array)\n",
    "end_time = time.time()\n",
    "\n",
    "print(f\"Initial runtime: {end_time - start_time:.4f} seconds\")\n",
    "print(df.head())"
   ]
  },
  {
   "cell_type": "code",
   "execution_count": null,
   "metadata": {},
   "outputs": [],
   "source": [
    "import os\n",
    "import shutil\n",
    "from proteinfolding.paths import PYROSETTA_ENERGY_DATA_DIR, PYROSETTA_ENERGY_DATA_DIR_MUTABLE, PYROSETTA_ENERGY_DATA_ALL\n",
    "\n",
    "def copy_missing_energy_files():\n",
    "    \"\"\"\n",
    "    Copies all missing files from PYROSETTA_ENERGY_DATA_DIR to PYROSETTA_ENERGY_DATA_DIR_MUTABLE.\n",
    "    Only copies files that do not already exist in the destination folder.\n",
    "    \"\"\"\n",
    "    # Ensure the destination directory exists\n",
    "    os.makedirs(PYROSETTA_ENERGY_DATA_DIR_MUTABLE, exist_ok=True)\n",
    "\n",
    "    # Get a list of files in the source directory\n",
    "    source_files = os.listdir(PYROSETTA_ENERGY_DATA_DIR)\n",
    "\n",
    "    # Loop through each file and copy if it doesn’t exist in the destination\n",
    "    for file_name in source_files:\n",
    "        source_path = os.path.join(PYROSETTA_ENERGY_DATA_DIR, file_name)\n",
    "        destination_path = os.path.join(PYROSETTA_ENERGY_DATA_DIR_MUTABLE, file_name)\n",
    "\n",
    "        if not os.path.exists(destination_path):  # Only copy if missing\n",
    "            shutil.copy(source_path, destination_path)\n",
    "            print(f\"✅ Copied: {file_name} -> {PYROSETTA_ENERGY_DATA_DIR_MUTABLE}\")\n",
    "        else:\n",
    "            print(f\"⚠️ Already exists, skipping: {file_name}\")\n",
    "\n",
    "    print(\"✅ All missing files copied successfully.\")\n",
    "\n",
    "copy_missing_energy_files()\n"
   ]
  },
  {
   "cell_type": "code",
   "execution_count": null,
   "metadata": {},
   "outputs": [],
   "source": [
    "from proteinfolding.paths import EXACT_DATA_DIR, EXACT_DATA_ENERGY_BITSTRING_FILE, EXACT_DATA_ENERGY_BITSTRING_FILE_ALL\n",
    "import pandas as pd\n",
    "\n",
    "# df = pd.read_csv(\"/Users/aag/Documents/proteinfolding/data/processed/exact/exact_ground_state_and_energy.csv\")\n",
    "# save the processed data as a csv, create the directory if it doesn't exist\n",
    "if not os.path.exists(EXACT_DATA_DIR):\n",
    "    os.makedirs(EXACT_DATA_DIR)\n",
    "\n",
    "df.to_csv(str(EXACT_DATA_ENERGY_BITSTRING_FILE_ALL), index=False, compression=\"gzip\", mode=\"a\", header=not os.path.exists(EXACT_DATA_ENERGY_BITSTRING_FILE_ALL))\n"
   ]
  },
  {
   "cell_type": "code",
   "execution_count": null,
   "metadata": {},
   "outputs": [],
   "source": [
    "import pandas as pd\n",
    "from proteinfolding.paths import EXACT_DATA_DIR,EXACT_DATA_ENERGY_BITSTRING_FILE_ALL, EXACT_DATA_ENERGY_BITSTRING_FILE\n",
    "\n",
    "\n",
    "df = pd.read_csv(str(EXACT_DATA_ENERGY_BITSTRING_FILE), compression=\"gzip\")\n",
    "print(df)"
   ]
  },
  {
   "cell_type": "code",
   "execution_count": null,
   "metadata": {},
   "outputs": [],
   "source": [
    "from proteinfolding.data_processing import find_min_energy_and_bitstring_from_exact_energy_dataframe\n",
    "num_res=6\n",
    "num_rot=4\n",
    "\n",
    "df_filtered = df[(df['num_res'] == num_res) & (df['num_rot'] == num_rot)]\n",
    "if df_filtered.empty:\n",
    "    print(f\"No exact energy found for num_rot={num_rot}, num_res={num_res}. Skipping.\")\n",
    "\n",
    "df_filtered = df_filtered.sort_values(by='energies').head(1)\n",
    "min_energy, min_energy_bitstring = find_min_energy_and_bitstring_from_exact_energy_dataframe(df, num_res, num_rot)\n",
    "print(min_energy)\n"
   ]
  },
  {
   "cell_type": "code",
   "execution_count": null,
   "metadata": {},
   "outputs": [],
   "source": [
    "ground_energy_2x2 = df[(df['num_res'] == 2) & (df['num_rot'] == 3)]['energies'].values[0]\n",
    "print(ground_energy_2x2)"
   ]
  },
  {
   "cell_type": "code",
   "execution_count": null,
   "metadata": {},
   "outputs": [],
   "source": [
    "duplicates = df[df.duplicated(subset=['num_res', 'num_rot'], keep=False)]\n",
    "print(duplicates)"
   ]
  },
  {
   "cell_type": "code",
   "execution_count": null,
   "metadata": {},
   "outputs": [],
   "source": [
    "df_exact = df.drop_duplicates(subset=['num_res', 'num_rot'], keep='first')\n",
    "print(df_exact)"
   ]
  },
  {
   "cell_type": "code",
   "execution_count": null,
   "metadata": {},
   "outputs": [],
   "source": [
    "df_exact.to_csv(\n",
    "    str(EXACT_DATA_ENERGY_BITSTRING_FILE_ALL), \n",
    "    index=False, \n",
    "    compression=\"gzip\", \n",
    "    mode=\"w\",  # Overwrite the existing file\n",
    "    header=True \n",
    ")"
   ]
  },
  {
   "cell_type": "code",
   "execution_count": null,
   "metadata": {},
   "outputs": [],
   "source": []
  }
 ],
 "metadata": {
  "kernelspec": {
   "display_name": "pf_venv",
   "language": "python",
   "name": "python3"
  },
  "language_info": {
   "codemirror_mode": {
    "name": "ipython",
    "version": 3
   },
   "file_extension": ".py",
   "mimetype": "text/x-python",
   "name": "python",
   "nbconvert_exporter": "python",
   "pygments_lexer": "ipython3",
   "version": "3.10.11"
  }
 },
 "nbformat": 4,
 "nbformat_minor": 2
}
