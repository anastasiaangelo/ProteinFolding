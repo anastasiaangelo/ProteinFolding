{
 "cells": [
  {
   "cell_type": "code",
   "execution_count": 1,
   "metadata": {},
   "outputs": [
    {
     "data": {
      "text/plain": [
       "'Template for jupyter notebooks created within this directory. Adds the parent directory to path and sets autoreload.'"
      ]
     },
     "execution_count": 1,
     "metadata": {},
     "output_type": "execute_result"
    }
   ],
   "source": [
    "\"\"\"Template for jupyter notebooks created within this directory. Adds the parent directory to path and sets autoreload.\"\"\""
   ]
  },
  {
   "cell_type": "code",
   "execution_count": 2,
   "metadata": {},
   "outputs": [],
   "source": [
    "%load_ext autoreload\n",
    "%autoreload 2\n"
   ]
  },
  {
   "cell_type": "code",
   "execution_count": 3,
   "metadata": {},
   "outputs": [
    {
     "name": "stdout",
     "output_type": "stream",
     "text": [
      "Root directory: /Users/dilhan.manawadu/Projects/proteinfolding is added to sys.path\n",
      "Home directory: /Users/dilhan.manawadu/Projects is added to sys.path\n"
     ]
    }
   ],
   "source": [
    "import os\n",
    "import sys\n",
    "\n",
    "# Get the current working directory\n",
    "cwd = os.getcwd()\n",
    "\n",
    "# Get the parent directory\n",
    "parent_dir = os.path.dirname(cwd)\n",
    "\n",
    "# Get the grandparent directory (two levels above)\n",
    "root_dir = os.path.dirname(parent_dir)\n",
    "\n",
    "home_dir = os.path.dirname(root_dir)\n",
    "\n",
    "# Add the root directory to sys.path\n",
    "if root_dir not in sys.path:\n",
    "    sys.path.append(root_dir)\n",
    "\n",
    "if home_dir not in sys.path:\n",
    "    sys.path.append(home_dir)\n",
    "\n",
    "print(f\"Root directory: {root_dir} is added to sys.path\")\n",
    "print(f\"Home directory: {home_dir} is added to sys.path\")\n"
   ]
  },
  {
   "cell_type": "code",
   "execution_count": 4,
   "metadata": {},
   "outputs": [],
   "source": [
    "## test imports\n",
    "\n",
    "from proteinfolding import * ## should run without errors\n",
    "\n",
    "##TODO: proper testing ##"
   ]
  },
  {
   "cell_type": "code",
   "execution_count": 5,
   "metadata": {},
   "outputs": [
    {
     "name": "stdout",
     "output_type": "stream",
     "text": [
      "Intel MKL WARNING: Support of Intel(R) Streaming SIMD Extensions 4.2 (Intel(R) SSE4.2) enabled only processors has been deprecated. Intel oneAPI Math Kernel Library 2025.0 will require Intel(R) Advanced Vector Extensions (Intel(R) AVX) instructions.\n",
      "Intel MKL WARNING: Support of Intel(R) Streaming SIMD Extensions 4.2 (Intel(R) SSE4.2) enabled only processors has been deprecated. Intel oneAPI Math Kernel Library 2025.0 will require Intel(R) Advanced Vector Extensions (Intel(R) AVX) instructions.\n",
      "/Users/dilhan.manawadu/Projects/proteinfolding/notebooks/local_testing\n"
     ]
    },
    {
     "ename": "ValueError",
     "evalue": "reps must have value >= 1, was 0",
     "output_type": "error",
     "traceback": [
      "\u001b[0;31m---------------------------------------------------------------------------\u001b[0m",
      "\u001b[0;31mValueError\u001b[0m                                Traceback (most recent call last)",
      "Cell \u001b[0;32mIn[5], line 11\u001b[0m\n\u001b[1;32m      7\u001b[0m \u001b[38;5;28;01mfrom\u001b[39;00m \u001b[38;5;21;01mproteinfolding\u001b[39;00m\u001b[38;5;21;01m.\u001b[39;00m\u001b[38;5;21;01msimulations_production\u001b[39;00m \u001b[38;5;28;01mimport\u001b[39;00m noisy_simulation_XY\n\u001b[1;32m      8\u001b[0m \u001b[38;5;28;01mfrom\u001b[39;00m \u001b[38;5;21;01mproteinfolding\u001b[39;00m\u001b[38;5;21;01m.\u001b[39;00m\u001b[38;5;21;01mpaths\u001b[39;00m \u001b[38;5;28;01mimport\u001b[39;00m QISKT_NOISE_MODEL_DIR\n\u001b[0;32m---> 11\u001b[0m \u001b[43mnoisy_simulation_XY\u001b[49m\u001b[43m(\u001b[49m\u001b[43mnum_rot\u001b[49m\u001b[38;5;241;43m=\u001b[39;49m\u001b[43mnum_rot\u001b[49m\u001b[43m,\u001b[49m\u001b[43m \u001b[49m\u001b[43mnum_res\u001b[49m\u001b[38;5;241;43m=\u001b[39;49m\u001b[43mnum_res\u001b[49m\u001b[43m,\u001b[49m\u001b[43m \u001b[49m\u001b[43mshots\u001b[49m\u001b[38;5;241;43m=\u001b[39;49m\u001b[43mshots\u001b[49m\u001b[43m,\u001b[49m\u001b[43m \u001b[49m\u001b[43malpha\u001b[49m\u001b[38;5;241;43m=\u001b[39;49m\u001b[43malpha\u001b[49m\u001b[43m,\u001b[49m\u001b[43m \u001b[49m\u001b[43mp\u001b[49m\u001b[38;5;241;43m=\u001b[39;49m\u001b[43mp\u001b[49m\u001b[43m)\u001b[49m \u001b[38;5;66;03m## should run without errors\u001b[39;00m\n",
      "File \u001b[0;32m~/Projects/proteinfolding/proteinfolding/simulations_production.py:106\u001b[0m, in \u001b[0;36mnoisy_simulation_XY\u001b[0;34m(num_rot, num_res, alpha, shots, p, pos)\u001b[0m\n\u001b[1;32m    104\u001b[0m \u001b[38;5;66;03m# %%\u001b[39;00m\n\u001b[1;32m    105\u001b[0m start_time1 \u001b[38;5;241m=\u001b[39m time\u001b[38;5;241m.\u001b[39mtime()\n\u001b[0;32m--> 106\u001b[0m qaoa1 \u001b[38;5;241m=\u001b[39m \u001b[43mQAOA\u001b[49m\u001b[43m(\u001b[49m\u001b[43msampler\u001b[49m\u001b[38;5;241;43m=\u001b[39;49m\u001b[43mnoisy_sampler\u001b[49m\u001b[43m,\u001b[49m\u001b[43m \u001b[49m\u001b[43moptimizer\u001b[49m\u001b[38;5;241;43m=\u001b[39;49m\u001b[43mCOBYLA\u001b[49m\u001b[43m(\u001b[49m\u001b[43m)\u001b[49m\u001b[43m,\u001b[49m\u001b[43m \u001b[49m\u001b[43mreps\u001b[49m\u001b[38;5;241;43m=\u001b[39;49m\u001b[43mp\u001b[49m\u001b[43m,\u001b[49m\u001b[43m \u001b[49m\u001b[43minitial_state\u001b[49m\u001b[38;5;241;43m=\u001b[39;49m\u001b[43mqc\u001b[49m\u001b[43m,\u001b[49m\u001b[43m \u001b[49m\u001b[43mmixer\u001b[49m\u001b[38;5;241;43m=\u001b[39;49m\u001b[43mXY_mixer\u001b[49m\u001b[43m,\u001b[49m\u001b[43m \u001b[49m\u001b[43minitial_point\u001b[49m\u001b[38;5;241;43m=\u001b[39;49m\u001b[43minitial_point\u001b[49m\u001b[43m,\u001b[49m\u001b[43mcallback\u001b[49m\u001b[38;5;241;43m=\u001b[39;49m\u001b[43mcallback\u001b[49m\u001b[43m,\u001b[49m\u001b[43m \u001b[49m\u001b[43maggregation\u001b[49m\u001b[38;5;241;43m=\u001b[39;49m\u001b[43malpha\u001b[49m\u001b[43m)\u001b[49m\n\u001b[1;32m    107\u001b[0m result1 \u001b[38;5;241m=\u001b[39m qaoa1\u001b[38;5;241m.\u001b[39mcompute_minimum_eigenvalue(q_hamiltonian)\n\u001b[1;32m    108\u001b[0m end_time1 \u001b[38;5;241m=\u001b[39m time\u001b[38;5;241m.\u001b[39mtime()\n",
      "File \u001b[0;32m~/anaconda3/envs/protein_q1/lib/python3.11/site-packages/qiskit_algorithms/minimum_eigensolvers/qaoa.py:121\u001b[0m, in \u001b[0;36mQAOA.__init__\u001b[0;34m(self, sampler, optimizer, reps, initial_state, mixer, initial_point, aggregation, callback)\u001b[0m\n\u001b[1;32m     86\u001b[0m \u001b[38;5;28;01mdef\u001b[39;00m \u001b[38;5;21m__init__\u001b[39m(\n\u001b[1;32m     87\u001b[0m     \u001b[38;5;28mself\u001b[39m,\n\u001b[1;32m     88\u001b[0m     sampler: BaseSampler,\n\u001b[0;32m   (...)\u001b[0m\n\u001b[1;32m     96\u001b[0m     callback: Callable[[\u001b[38;5;28mint\u001b[39m, np\u001b[38;5;241m.\u001b[39mndarray, \u001b[38;5;28mfloat\u001b[39m, \u001b[38;5;28mdict\u001b[39m[\u001b[38;5;28mstr\u001b[39m, Any]], \u001b[38;5;28;01mNone\u001b[39;00m] \u001b[38;5;241m|\u001b[39m \u001b[38;5;28;01mNone\u001b[39;00m \u001b[38;5;241m=\u001b[39m \u001b[38;5;28;01mNone\u001b[39;00m,\n\u001b[1;32m     97\u001b[0m ) \u001b[38;5;241m-\u001b[39m\u001b[38;5;241m>\u001b[39m \u001b[38;5;28;01mNone\u001b[39;00m:\n\u001b[1;32m     98\u001b[0m \u001b[38;5;250m    \u001b[39m\u001b[38;5;124mr\u001b[39m\u001b[38;5;124;03m\"\"\"\u001b[39;00m\n\u001b[1;32m     99\u001b[0m \u001b[38;5;124;03m    Args:\u001b[39;00m\n\u001b[1;32m    100\u001b[0m \u001b[38;5;124;03m        sampler: The sampler primitive to sample the circuits.\u001b[39;00m\n\u001b[0;32m   (...)\u001b[0m\n\u001b[1;32m    119\u001b[0m \u001b[38;5;124;03m            evaluated value, the metadata dictionary.\u001b[39;00m\n\u001b[1;32m    120\u001b[0m \u001b[38;5;124;03m    \"\"\"\u001b[39;00m\n\u001b[0;32m--> 121\u001b[0m     \u001b[43mvalidate_min\u001b[49m\u001b[43m(\u001b[49m\u001b[38;5;124;43m\"\u001b[39;49m\u001b[38;5;124;43mreps\u001b[39;49m\u001b[38;5;124;43m\"\u001b[39;49m\u001b[43m,\u001b[49m\u001b[43m \u001b[49m\u001b[43mreps\u001b[49m\u001b[43m,\u001b[49m\u001b[43m \u001b[49m\u001b[38;5;241;43m1\u001b[39;49m\u001b[43m)\u001b[49m\n\u001b[1;32m    123\u001b[0m     \u001b[38;5;28mself\u001b[39m\u001b[38;5;241m.\u001b[39mreps \u001b[38;5;241m=\u001b[39m reps\n\u001b[1;32m    124\u001b[0m     \u001b[38;5;28mself\u001b[39m\u001b[38;5;241m.\u001b[39mmixer \u001b[38;5;241m=\u001b[39m mixer\n",
      "File \u001b[0;32m~/anaconda3/envs/protein_q1/lib/python3.11/site-packages/qiskit_algorithms/utils/validation.py:43\u001b[0m, in \u001b[0;36mvalidate_min\u001b[0;34m(name, value, minimum)\u001b[0m\n\u001b[1;32m     34\u001b[0m \u001b[38;5;250m\u001b[39m\u001b[38;5;124;03m\"\"\"\u001b[39;00m\n\u001b[1;32m     35\u001b[0m \u001b[38;5;124;03mArgs:\u001b[39;00m\n\u001b[1;32m     36\u001b[0m \u001b[38;5;124;03m    name: value name.\u001b[39;00m\n\u001b[0;32m   (...)\u001b[0m\n\u001b[1;32m     40\u001b[0m \u001b[38;5;124;03m    ValueError: invalid value\u001b[39;00m\n\u001b[1;32m     41\u001b[0m \u001b[38;5;124;03m\"\"\"\u001b[39;00m\n\u001b[1;32m     42\u001b[0m \u001b[38;5;28;01mif\u001b[39;00m value \u001b[38;5;241m<\u001b[39m minimum:\n\u001b[0;32m---> 43\u001b[0m     \u001b[38;5;28;01mraise\u001b[39;00m \u001b[38;5;167;01mValueError\u001b[39;00m(\u001b[38;5;124mf\u001b[39m\u001b[38;5;124m\"\u001b[39m\u001b[38;5;132;01m{\u001b[39;00mname\u001b[38;5;132;01m}\u001b[39;00m\u001b[38;5;124m must have value >= \u001b[39m\u001b[38;5;132;01m{\u001b[39;00mminimum\u001b[38;5;132;01m}\u001b[39;00m\u001b[38;5;124m, was \u001b[39m\u001b[38;5;132;01m{\u001b[39;00mvalue\u001b[38;5;132;01m}\u001b[39;00m\u001b[38;5;124m\"\u001b[39m)\n",
      "\u001b[0;31mValueError\u001b[0m: reps must have value >= 1, was 0"
     ]
    }
   ],
   "source": [
    "num_res = 2\n",
    "num_rot = 2\n",
    "p = 1\n",
    "alpha = 1\n",
    "shots = 10\n",
    "\n",
    "from proteinfolding.simulations_production import noisy_simulation_XY\n",
    "from proteinfolding.paths import QISKT_NOISE_MODEL_DIR\n",
    "\n",
    "\n",
    "noisy_simulation_XY(num_rot=num_rot, num_res=num_res, shots=shots, alpha=alpha, p=p) ## should run without errors"
   ]
  },
  {
   "cell_type": "code",
   "execution_count": 63,
   "metadata": {},
   "outputs": [],
   "source": [
    "# convert to dataframe\n",
    "\n",
    "from proteinfolding.data_processing import clean_json_data, load_json_files, clean_intermediate_data\n",
    "\n",
    "CWD = os.getcwd()\n",
    "data = load_json_files(CWD)\n",
    "\n",
    "clean_data = clean_json_data(data)\n",
    "\n",
    "df = clean_intermediate_data(clean_data)"
   ]
  },
  {
   "cell_type": "code",
   "execution_count": 64,
   "metadata": {},
   "outputs": [
    {
     "data": {
      "text/html": [
       "<div>\n",
       "<style scoped>\n",
       "    .dataframe tbody tr th:only-of-type {\n",
       "        vertical-align: middle;\n",
       "    }\n",
       "\n",
       "    .dataframe tbody tr th {\n",
       "        vertical-align: top;\n",
       "    }\n",
       "\n",
       "    .dataframe thead th {\n",
       "        text-align: right;\n",
       "    }\n",
       "</style>\n",
       "<table border=\"1\" class=\"dataframe\">\n",
       "  <thead>\n",
       "    <tr style=\"text-align: right;\">\n",
       "      <th></th>\n",
       "      <th>num_res</th>\n",
       "      <th>num_rot</th>\n",
       "      <th>alpha</th>\n",
       "      <th>shots</th>\n",
       "      <th>p</th>\n",
       "      <th>bitstrings</th>\n",
       "      <th>probabilities</th>\n",
       "      <th>fraction</th>\n",
       "      <th>norm</th>\n",
       "      <th>energy</th>\n",
       "      <th>elapsed_time</th>\n",
       "      <th>intermediate_data</th>\n",
       "      <th>cumulative_probability_dict</th>\n",
       "      <th>cumulative_total_dict</th>\n",
       "      <th>all_bitstrings</th>\n",
       "      <th>all_unrestricted_bitstrings</th>\n",
       "      <th>sorted_bitstrings</th>\n",
       "      <th>sorted_unrestricted_bitstrings</th>\n",
       "    </tr>\n",
       "  </thead>\n",
       "  <tbody>\n",
       "    <tr>\n",
       "      <th>0</th>\n",
       "      <td>2</td>\n",
       "      <td>2</td>\n",
       "      <td>1</td>\n",
       "      <td>10</td>\n",
       "      <td>1</td>\n",
       "      <td>[0101, 0110, 1001, 1010]</td>\n",
       "      <td>[0.6166666666666667, 0.10000000000000002, 0.03...</td>\n",
       "      <td>0.827778</td>\n",
       "      <td>18.0</td>\n",
       "      <td>-0.228445</td>\n",
       "      <td>91.661875</td>\n",
       "      <td>[{'10': 0.5, '9': 0.1, '6': 0.3, '8': 0.1}, {'...</td>\n",
       "      <td>{'1010': 2.2, '1001': 0.6, '0110': 1.800000000...</td>\n",
       "      <td>{'1010': 2.2, '1001': 0.6, '0110': 1.800000000...</td>\n",
       "      <td>{'0101': {'probability': 11.100000000000001, '...</td>\n",
       "      <td>{'0101': {'probability': 0.8, 'energy': -0.228...</td>\n",
       "      <td>[[0101, {'probability': 11.100000000000001, 'e...</td>\n",
       "      <td>[[0100, {'probability': 18.2, 'energy': -0.701...</td>\n",
       "    </tr>\n",
       "  </tbody>\n",
       "</table>\n",
       "</div>"
      ],
      "text/plain": [
       "   num_res  num_rot  alpha  shots  p                bitstrings  \\\n",
       "0        2        2      1     10  1  [0101, 0110, 1001, 1010]   \n",
       "\n",
       "                                       probabilities  fraction  norm  \\\n",
       "0  [0.6166666666666667, 0.10000000000000002, 0.03...  0.827778  18.0   \n",
       "\n",
       "     energy  elapsed_time                                  intermediate_data  \\\n",
       "0 -0.228445     91.661875  [{'10': 0.5, '9': 0.1, '6': 0.3, '8': 0.1}, {'...   \n",
       "\n",
       "                         cumulative_probability_dict  \\\n",
       "0  {'1010': 2.2, '1001': 0.6, '0110': 1.800000000...   \n",
       "\n",
       "                               cumulative_total_dict  \\\n",
       "0  {'1010': 2.2, '1001': 0.6, '0110': 1.800000000...   \n",
       "\n",
       "                                      all_bitstrings  \\\n",
       "0  {'0101': {'probability': 11.100000000000001, '...   \n",
       "\n",
       "                         all_unrestricted_bitstrings  \\\n",
       "0  {'0101': {'probability': 0.8, 'energy': -0.228...   \n",
       "\n",
       "                                   sorted_bitstrings  \\\n",
       "0  [[0101, {'probability': 11.100000000000001, 'e...   \n",
       "\n",
       "                      sorted_unrestricted_bitstrings  \n",
       "0  [[0100, {'probability': 18.2, 'energy': -0.701...  "
      ]
     },
     "execution_count": 64,
     "metadata": {},
     "output_type": "execute_result"
    }
   ],
   "source": [
    "df.head() ## should run without errors"
   ]
  },
  {
   "cell_type": "code",
   "execution_count": 65,
   "metadata": {},
   "outputs": [],
   "source": [
    "from proteinfolding.paths import EXACT_DATA_DIR, EXACT_DATA_ENERGY_BITSTRING_FILE\n",
    "import pandas as pd\n",
    "\n",
    "EXACT_PATH = os.path.join(EXACT_DATA_DIR, EXACT_DATA_ENERGY_BITSTRING_FILE)\n",
    "df_exact = pd.read_csv(EXACT_PATH)"
   ]
  },
  {
   "cell_type": "code",
   "execution_count": 66,
   "metadata": {},
   "outputs": [
    {
     "data": {
      "text/html": [
       "<div>\n",
       "<style scoped>\n",
       "    .dataframe tbody tr th:only-of-type {\n",
       "        vertical-align: middle;\n",
       "    }\n",
       "\n",
       "    .dataframe tbody tr th {\n",
       "        vertical-align: top;\n",
       "    }\n",
       "\n",
       "    .dataframe thead th {\n",
       "        text-align: right;\n",
       "    }\n",
       "</style>\n",
       "<table border=\"1\" class=\"dataframe\">\n",
       "  <thead>\n",
       "    <tr style=\"text-align: right;\">\n",
       "      <th></th>\n",
       "      <th>num_res</th>\n",
       "      <th>num_rot</th>\n",
       "      <th>energies</th>\n",
       "      <th>bitstrings</th>\n",
       "    </tr>\n",
       "  </thead>\n",
       "  <tbody>\n",
       "    <tr>\n",
       "      <th>0</th>\n",
       "      <td>2</td>\n",
       "      <td>2</td>\n",
       "      <td>[(0.22744239866733562+0j), (0.0660957843065260...</td>\n",
       "      <td>['1010', '1001', '0110', '0101']</td>\n",
       "    </tr>\n",
       "    <tr>\n",
       "      <th>1</th>\n",
       "      <td>2</td>\n",
       "      <td>3</td>\n",
       "      <td>[(-1.8422357141971588+0j), (-2.003582328557968...</td>\n",
       "      <td>['100100', '100010', '100001', '010100', '0100...</td>\n",
       "    </tr>\n",
       "    <tr>\n",
       "      <th>2</th>\n",
       "      <td>3</td>\n",
       "      <td>2</td>\n",
       "      <td>[(-1.5153165645897388+0j), (-0.441403400152921...</td>\n",
       "      <td>['101010', '101001', '100110', '100101', '0110...</td>\n",
       "    </tr>\n",
       "    <tr>\n",
       "      <th>3</th>\n",
       "      <td>3</td>\n",
       "      <td>3</td>\n",
       "      <td>[(-4.412406247109175+0j), (-3.3384930826723576...</td>\n",
       "      <td>['100100100', '100100010', '100100001', '10001...</td>\n",
       "    </tr>\n",
       "    <tr>\n",
       "      <th>4</th>\n",
       "      <td>4</td>\n",
       "      <td>2</td>\n",
       "      <td>[(2.9962810706347227+0j), (3.221675081178546+0...</td>\n",
       "      <td>['10101010', '10101001', '10100110', '10100101...</td>\n",
       "    </tr>\n",
       "  </tbody>\n",
       "</table>\n",
       "</div>"
      ],
      "text/plain": [
       "   num_res  num_rot                                           energies  \\\n",
       "0        2        2  [(0.22744239866733562+0j), (0.0660957843065260...   \n",
       "1        2        3  [(-1.8422357141971588+0j), (-2.003582328557968...   \n",
       "2        3        2  [(-1.5153165645897388+0j), (-0.441403400152921...   \n",
       "3        3        3  [(-4.412406247109175+0j), (-3.3384930826723576...   \n",
       "4        4        2  [(2.9962810706347227+0j), (3.221675081178546+0...   \n",
       "\n",
       "                                          bitstrings  \n",
       "0                   ['1010', '1001', '0110', '0101']  \n",
       "1  ['100100', '100010', '100001', '010100', '0100...  \n",
       "2  ['101010', '101001', '100110', '100101', '0110...  \n",
       "3  ['100100100', '100100010', '100100001', '10001...  \n",
       "4  ['10101010', '10101001', '10100110', '10100101...  "
      ]
     },
     "execution_count": 66,
     "metadata": {},
     "output_type": "execute_result"
    }
   ],
   "source": [
    "df_exact.head() ## should run without errors"
   ]
  },
  {
   "cell_type": "code",
   "execution_count": 67,
   "metadata": {},
   "outputs": [
    {
     "data": {
      "text/plain": [
       "Index(['num_res', 'num_rot', 'alpha', 'shots', 'p', 'bitstrings',\n",
       "       'probabilities', 'fraction', 'norm', 'energy', 'elapsed_time',\n",
       "       'intermediate_data', 'cumulative_probability_dict',\n",
       "       'cumulative_total_dict', 'all_bitstrings',\n",
       "       'all_unrestricted_bitstrings', 'sorted_bitstrings',\n",
       "       'sorted_unrestricted_bitstrings'],\n",
       "      dtype='object')"
      ]
     },
     "execution_count": 67,
     "metadata": {},
     "output_type": "execute_result"
    }
   ],
   "source": [
    "df.keys()"
   ]
  },
  {
   "cell_type": "code",
   "execution_count": 68,
   "metadata": {},
   "outputs": [],
   "source": [
    "from proteinfolding.data_processing import find_initial_and_final_probability_distributions\n",
    "\n",
    "df_init_final = find_initial_and_final_probability_distributions(df, df_exact)"
   ]
  },
  {
   "cell_type": "code",
   "execution_count": 69,
   "metadata": {},
   "outputs": [
    {
     "data": {
      "text/html": [
       "<div>\n",
       "<style scoped>\n",
       "    .dataframe tbody tr th:only-of-type {\n",
       "        vertical-align: middle;\n",
       "    }\n",
       "\n",
       "    .dataframe tbody tr th {\n",
       "        vertical-align: top;\n",
       "    }\n",
       "\n",
       "    .dataframe thead th {\n",
       "        text-align: right;\n",
       "    }\n",
       "</style>\n",
       "<table border=\"1\" class=\"dataframe\">\n",
       "  <thead>\n",
       "    <tr style=\"text-align: right;\">\n",
       "      <th></th>\n",
       "      <th>num_res</th>\n",
       "      <th>num_rot</th>\n",
       "      <th>alpha</th>\n",
       "      <th>shots</th>\n",
       "      <th>p</th>\n",
       "      <th>init_dist</th>\n",
       "      <th>init_energies</th>\n",
       "      <th>final_dist</th>\n",
       "      <th>final_energies</th>\n",
       "    </tr>\n",
       "  </thead>\n",
       "  <tbody>\n",
       "    <tr>\n",
       "      <th>0</th>\n",
       "      <td>2</td>\n",
       "      <td>2</td>\n",
       "      <td>1</td>\n",
       "      <td>10</td>\n",
       "      <td>1</td>\n",
       "      <td>{'10': 0.5, '9': 0.1, '6': 0.3, '8': 0.1}</td>\n",
       "      <td>[0.22744239866733562, 0.06609578430652607, -0....</td>\n",
       "      <td>{'5': 0.8, '4': 0.2}</td>\n",
       "      <td>[-0.22844527661800396, None]</td>\n",
       "    </tr>\n",
       "  </tbody>\n",
       "</table>\n",
       "</div>"
      ],
      "text/plain": [
       "   num_res  num_rot  alpha  shots  p  \\\n",
       "0        2        2      1     10  1   \n",
       "\n",
       "                                   init_dist  \\\n",
       "0  {'10': 0.5, '9': 0.1, '6': 0.3, '8': 0.1}   \n",
       "\n",
       "                                       init_energies            final_dist  \\\n",
       "0  [0.22744239866733562, 0.06609578430652607, -0....  {'5': 0.8, '4': 0.2}   \n",
       "\n",
       "                 final_energies  \n",
       "0  [-0.22844527661800396, None]  "
      ]
     },
     "execution_count": 69,
     "metadata": {},
     "output_type": "execute_result"
    }
   ],
   "source": [
    "df_init_final"
   ]
  },
  {
   "cell_type": "code",
   "execution_count": null,
   "metadata": {},
   "outputs": [
    {
     "data": {
      "image/png": "[encoded data removed]",
      "text/plain": [
       "<Figure size 1000x500 with 2 Axes>"
      ]
     },
     "metadata": {},
     "output_type": "display_data"
    }
   ],
   "source": [
    "from proteinfolding.data_plotter import DataPlotter\n",
    "\n",
    "dp = DataPlotter(df_init_final)\n",
    "dp.plot_init_and_final_probabilities(df_init_final, save_path=os.path.join(CWD, 'plots'), display=True)"
   ]
  },
  {
   "cell_type": "code",
   "execution_count": 71,
   "metadata": {},
   "outputs": [],
   "source": [
    "# save df as csv\n",
    "\n",
    "df.to_csv(os.path.join(CWD, \"df.csv\"), index=False)"
   ]
  },
  {
   "cell_type": "code",
   "execution_count": 72,
   "metadata": {},
   "outputs": [],
   "source": [
    "# print df_exact where num_res = 2 and num_rot = 2\n",
    "\n",
    "df_exact_slice = df_exact[(df_exact[\"num_res\"] == 2) & (df_exact[\"num_rot\"] == 2)]\n",
    "\n",
    "# save as csv\n",
    "\n",
    "df_exact_slice.to_csv(os.path.join(CWD, \"df_exact_slice.csv\"), index=False)"
   ]
  },
  {
   "cell_type": "code",
   "execution_count": 10,
   "metadata": {},
   "outputs": [
    {
     "name": "stdout",
     "output_type": "stream",
     "text": [
      "0101\n"
     ]
    }
   ],
   "source": [
    "# test initial bitstring generation\n",
    "\n",
    "from proteinfolding.supporting_functions import generate_initial_bitstring\n",
    "\n",
    "print(generate_initial_bitstring(4,2,1))"
   ]
  },
  {
   "cell_type": "code",
   "execution_count": null,
   "metadata": {},
   "outputs": [],
   "source": []
  }
 ],
 "metadata": {
  "kernelspec": {
   "display_name": "protein_q1",
   "language": "python",
   "name": "python3"
  },
  "language_info": {
   "codemirror_mode": {
    "name": "ipython",
    "version": 3
   },
   "file_extension": ".py",
   "mimetype": "text/x-python",
   "name": "python",
   "nbconvert_exporter": "python",
   "pygments_lexer": "ipython3",
   "version": "3.11.8"
  }
 },
 "nbformat": 4,
 "nbformat_minor": 2
}
