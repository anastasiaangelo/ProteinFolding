{
 "cells": [
  {
   "cell_type": "code",
   "execution_count": 2,
   "metadata": {},
   "outputs": [
    {
     "data": {
      "text/plain": [
       "'Template for jupyter notebooks created within this directory. Adds the parent directory to path and sets autoreload.'"
      ]
     },
     "execution_count": 2,
     "metadata": {},
     "output_type": "execute_result"
    }
   ],
   "source": [
    "\"\"\"Template for jupyter notebooks created within this directory. Adds the parent directory to path and sets autoreload.\"\"\""
   ]
  },
  {
   "cell_type": "code",
   "execution_count": 1,
   "metadata": {},
   "outputs": [],
   "source": [
    "%load_ext autoreload\n",
    "%autoreload 2\n"
   ]
  },
  {
   "cell_type": "code",
   "execution_count": 2,
   "metadata": {},
   "outputs": [
    {
     "name": "stdout",
     "output_type": "stream",
     "text": [
      "Root directory: /Users/aag/Documents/proteinfolding is added to sys.path\n"
     ]
    }
   ],
   "source": [
    "import os\n",
    "import sys\n",
    "\n",
    "# Get the current working directory\n",
    "cwd = os.getcwd()\n",
    "\n",
    "# Get the parent directory\n",
    "parent_dir = os.path.dirname(cwd)\n",
    "\n",
    "# Get the grandparent directory (two levels above)\n",
    "root_dir = os.path.dirname(parent_dir)\n",
    "\n",
    "# Add the root directory to sys.path\n",
    "if root_dir not in sys.path:\n",
    "    sys.path.append(root_dir)\n",
    "\n",
    "print(f\"Root directory: {root_dir} is added to sys.path\")\n"
   ]
  },
  {
   "cell_type": "code",
   "execution_count": 3,
   "metadata": {},
   "outputs": [],
   "source": [
    "## test imports\n",
    "\n",
    "from proteinfolding import * ## should run without errors\n",
    "\n",
    "##TODO: proper testing ##"
   ]
  },
  {
   "cell_type": "code",
   "execution_count": 6,
   "metadata": {},
   "outputs": [
    {
     "name": "stdout",
     "output_type": "stream",
     "text": [
      "/Users/aag/Documents/proteinfolding/notebooks/local_testing\n",
      "┌──────────────────────────────────────────────────────────────────────────────┐\n",
      "│                                 PyRosetta-4                                  │\n",
      "│              Created in JHU by Sergey Lyskov and PyRosetta Team              │\n",
      "│              (C) Copyright Rosetta Commons Member Institutions               │\n",
      "│                                                                              │\n",
      "│ NOTE: USE OF PyRosetta FOR COMMERCIAL PURPOSES REQUIRE PURCHASE OF A LICENSE │\n",
      "│         See LICENSE.PyRosetta.md or email license@uw.edu for details         │\n",
      "└──────────────────────────────────────────────────────────────────────────────┘\n",
      "PyRosetta-4 2025 [Rosetta PyRosetta4.Release.python310.m1 2025.06+release.029c6a159b896477003a14f78f472d4cd2cead46 2025-02-04T15:14:13] retrieved from: http://www.pyrosetta.org\n",
      "core.init: Checking for fconfig files in pwd and ./rosetta/flags\n",
      "core.init: Rosetta version: PyRosetta4.Release.python310.m1 r394 2025.06+release.029c6a159b 029c6a159b896477003a14f78f472d4cd2cead46 http://www.pyrosetta.org 2025-02-04T15:14:13\n",
      "core.init: Rosetta extras: []\n",
      "core.init: command: PyRosetta -ex1 -ex2aro -database /Users/aag/Documents/proteinfolding/pf_venv/lib/python3.10/site-packages/pyrosetta/database\n",
      "basic.random.init_random_generator: 'RNG device' seed mode, using '/dev/urandom', seed=1242762155 seed_offset=0 real_seed=1242762155\n",
      "basic.random.init_random_generator: RandomGenerator:init: Normal mode, seed=1242762155 RG_type=mt19937\n",
      "files already present, not generating\n"
     ]
    }
   ],
   "source": [
    "from proteinfolding.supporting_functions import get_qubo_hamiltonian\n",
    "num_res = 4\n",
    "num_rot = 3\n",
    "\n",
    "Q = get_qubo_hamiltonian(num_rot, num_res)"
   ]
  },
  {
   "cell_type": "code",
   "execution_count": 11,
   "metadata": {},
   "outputs": [
    {
     "name": "stdout",
     "output_type": "stream",
     "text": [
      "Optimal solution: [[0, 1.0, 0], [0, 1.0, 0], [1.0, 0, 0], [0, 1.0, 0]]\n",
      "Objective value: -0.8408074975013732\n"
     ]
    }
   ],
   "source": [
    "from docplex.mp.model import Model\n",
    "import numpy as np\n",
    "\n",
    "n = Q.shape[0]\n",
    "mdl = Model(name='QUBO_ILP')\n",
    "\n",
    "# Create binary variables: x[i][j] for residue i and rotamer j\n",
    "x = [[mdl.binary_var(name=f\"x_{i}_{j}\") for j in range(num_rot)] for i in range(num_res)]\n",
    "\n",
    "# Add one-hot (Hamming weight = 1) constraint per residue\n",
    "for i in range(num_res):\n",
    "    mdl.add_constraint(mdl.sum(x[i][j] for j in range(num_rot)) == 1,\n",
    "                       ctname=f\"one_hot_residue_{i}\")\n",
    "    \n",
    "x_flat = [var for row in x for var in row]  # x[res][rot] → x_flat[index]\n",
    "\n",
    "# Auxiliary variables for products x_i * x_j\n",
    "y = {}\n",
    "for i in range(n):\n",
    "    for j in range(i+1, n):\n",
    "        y[i, j] = mdl.binary_var(name=f'y_{i}_{j}')\n",
    "        mdl.add_constraint(y[i, j] <= x_flat[i])\n",
    "        mdl.add_constraint(y[i, j] <= x_flat[j])\n",
    "        mdl.add_constraint(y[i, j] >= x_flat[i] + x_flat[j] - 1)\n",
    "\n",
    "# Build the objective\n",
    "objective = 0\n",
    "for i in range(n):\n",
    "    objective += Q[i, i] * x_flat[i]\n",
    "    for j in range(i+1, n):\n",
    "        objective += Q[i, j] * y[i, j]\n",
    "\n",
    "mdl.minimize(objective)\n",
    "mdl.solve()\n",
    "\n",
    "# Output\n",
    "solution = [[v.solution_value for v in row] for row in x]  # returns a 2D list: [residue][rotamer]\n",
    "print(\"Optimal solution:\", solution)\n",
    "print(\"Objective value:\", mdl.objective_value)\n"
   ]
  },
  {
   "cell_type": "code",
   "execution_count": null,
   "metadata": {},
   "outputs": [],
   "source": []
  }
 ],
 "metadata": {
  "kernelspec": {
   "display_name": "pf_venv",
   "language": "python",
   "name": "python3"
  },
  "language_info": {
   "codemirror_mode": {
    "name": "ipython",
    "version": 3
   },
   "file_extension": ".py",
   "mimetype": "text/x-python",
   "name": "python",
   "nbconvert_exporter": "python",
   "pygments_lexer": "ipython3",
   "version": "3.10.11"
  }
 },
 "nbformat": 4,
 "nbformat_minor": 2
}
